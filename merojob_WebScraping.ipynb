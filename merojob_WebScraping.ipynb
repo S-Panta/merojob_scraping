{
  "cells": [
    {
      "cell_type": "markdown",
      "metadata": {
        "id": "view-in-github",
        "colab_type": "text"
      },
      "source": [
        "<a href=\"https://colab.research.google.com/github/S-Panta/merojob_scraping/blob/main/merojob_WebScraping.ipynb\" target=\"_parent\"><img src=\"https://colab.research.google.com/assets/colab-badge.svg\" alt=\"Open In Colab\"/></a>"
      ]
    },
    {
      "cell_type": "code",
      "execution_count": 8,
      "metadata": {
        "id": "7_pnqWhUPzx-"
      },
      "outputs": [],
      "source": [
        "import csv\n",
        "import requests\n",
        "from bs4 import BeautifulSoup\n",
        "import pandas as pd"
      ]
    },
    {
      "cell_type": "code",
      "execution_count": 9,
      "metadata": {
        "id": "ogSXu_whO_f6"
      },
      "outputs": [],
      "source": [
        "def extract(jobs,page):\n",
        "  headers={\"User-Agent\":\"Mozilla/5.0 (Windows NT 10.0; Win64; x64) AppleWebKit/537.36 (KHTML, like Gecko) Chrome/103.0.0.0 Safari/537.36\"}\n",
        "  url=f'https://merojob.com/search/?q={jobs}&page={page}'\n",
        "  response=requests.get(url,headers)\n",
        "  soup=BeautifulSoup(response.text,'html.parser')\n",
        "  return soup"
      ]
    },
    {
      "cell_type": "code",
      "execution_count": 10,
      "metadata": {
        "id": "ihvHlNvYQuRo"
      },
      "outputs": [],
      "source": [
        "def value(soup):\n",
        "  tech_list=[]\n",
        "  cards=soup.find_all('div',class_='card mt-3 hover-shadow')\n",
        "  for items in cards:\n",
        "    listed=[]\n",
        "    Job=items.find('a').text.strip()\n",
        "    Office=items.find('h3').text.strip()\n",
        "    deadline=items.find('p').text.strip().strip('Apply Before:')\n",
        "    location=items.find('div',class_='media-body').text.strip()\n",
        "    sallary=items.find()\n",
        "    tool=items.find_all('span',class_='badge badge-pill badge-light rounded text-muted')\n",
        "    for technology in tool:\n",
        "      tech_list.append(technology.text.strip())\n",
        "    values={\n",
        "        'Office':Office,\n",
        "        'Position':Job,\n",
        "        'Location':location,\n",
        "        'Deadline':deadline,\n",
        "        'Skills':tech_list,\n",
        "    }\n",
        "    job_list.append(values)\n",
        "    tech_list=[]\n",
        "  return"
      ]
    },
    {
      "cell_type": "code",
      "source": [
        "#calculation of the final position of job search.\n",
        "def page(soup):\n",
        "  page_indexing=[]\n",
        "  number=soup.find_all('div',class_='ajax-paginator text-center')\n",
        "  for items in number:\n",
        "    tool=items.find_all('li',class_='page-item')\n",
        "    for i in tool:\n",
        "      page_indexing.append(i.text.strip())\n",
        "    if len(page_indexing)==0:\n",
        "      return 1\n",
        "    else:\n",
        "      return page_indexing[-2]"
      ],
      "metadata": {
        "id": "9lxLYoJiYxDG"
      },
      "execution_count": 11,
      "outputs": []
    },
    {
      "cell_type": "code",
      "source": [
        "#Choosing Category or Job postion\n",
        "jobs=input(\"Enter the job:\")\n",
        "#calling function for our final scraping task.\n",
        "c=extract(jobs,1)\n",
        "range_index=int(page(c))\n",
        "job_list=[]\n",
        "if jobs.isalpha():\n",
        "  for i in range(1,range_index+1,1):\n",
        "    print(f'Reading pages...{i}')\n",
        "    c=extract(jobs,i)\n",
        "    value(c)"
      ],
      "metadata": {
        "id": "Zk03TZQZZg2v",
        "colab": {
          "base_uri": "https://localhost:8080/"
        },
        "outputId": "3d27b88e-0a9e-4fc4-ee34-5120e774d8f0"
      },
      "execution_count": 12,
      "outputs": [
        {
          "output_type": "stream",
          "name": "stdout",
          "text": [
            "Enter the job:python\n",
            "Reading pages...1\n",
            "Reading pages...2\n"
          ]
        }
      ]
    },
    {
      "cell_type": "markdown",
      "source": [],
      "metadata": {
        "id": "RowineHfQeYI"
      }
    },
    {
      "cell_type": "code",
      "source": [
        "#changing dictionary result into dataframe\n",
        "output=pd.DataFrame(job_list)\n",
        "output"
      ],
      "metadata": {
        "id": "XrjgsBGQZXNh",
        "colab": {
          "base_uri": "https://localhost:8080/",
          "height": 269
        },
        "outputId": "5ca7c477-d3b1-4421-c444-aecaa2b8ec18"
      },
      "execution_count": 13,
      "outputs": [
        {
          "output_type": "execute_result",
          "data": {
            "text/plain": [
              "           Office                          Position                Location  \\\n",
              "0       Aayulogic             Python/ Django Intern  Shantinagar, Kathmandu   \n",
              "1  Logpoint Nepal             Software Engineer (C)    Jawalakhel ,Lalitpur   \n",
              "2       Tekvortex        Backend Developer (Python)    Jhamsikhel, Lalitpur   \n",
              "3  Logpoint Nepal  Senior Quality Assurance Engine…    Jawalakhel ,Lalitpur   \n",
              "4         Merojob                  Python Developer        Kathmandu, Nepal   \n",
              "5       Codavatar  Mid- Level Backend Developer (P…        Kathmandu, Nepal   \n",
              "6    Softech Ltd.                 Backend Developer               Kathmandu   \n",
              "\n",
              "                  Deadline                                             Skills  \n",
              "0          1 week from now  [Communication, Negotiation, Interpersonal Ski...  \n",
              "1         2 weeks from now  [Teamwork, Java, Python, Analytical Skills, C/...  \n",
              "2           1 day from now  [Python, Dynamodb, Aws Lambda, Rds (Mysql), No...  \n",
              "3  1 week, 2 days from now  [Communication, Java, Sql, Python Scripting, L...  \n",
              "4          5 days from now  [Python, Js, Vue, Django Framework, Nuxt, Tail...  \n",
              "5          2 days from now  [Problem Solving, Multitasking, Time Managemen...  \n",
              "6      11 minutes from now  [Communication, Problem Solving, Time Manageme...  "
            ],
            "text/html": [
              "\n",
              "  <div id=\"df-bec433d5-a090-4163-8ec2-5cf0fea1ebc7\">\n",
              "    <div class=\"colab-df-container\">\n",
              "      <div>\n",
              "<style scoped>\n",
              "    .dataframe tbody tr th:only-of-type {\n",
              "        vertical-align: middle;\n",
              "    }\n",
              "\n",
              "    .dataframe tbody tr th {\n",
              "        vertical-align: top;\n",
              "    }\n",
              "\n",
              "    .dataframe thead th {\n",
              "        text-align: right;\n",
              "    }\n",
              "</style>\n",
              "<table border=\"1\" class=\"dataframe\">\n",
              "  <thead>\n",
              "    <tr style=\"text-align: right;\">\n",
              "      <th></th>\n",
              "      <th>Office</th>\n",
              "      <th>Position</th>\n",
              "      <th>Location</th>\n",
              "      <th>Deadline</th>\n",
              "      <th>Skills</th>\n",
              "    </tr>\n",
              "  </thead>\n",
              "  <tbody>\n",
              "    <tr>\n",
              "      <th>0</th>\n",
              "      <td>Aayulogic</td>\n",
              "      <td>Python/ Django Intern</td>\n",
              "      <td>Shantinagar, Kathmandu</td>\n",
              "      <td>1 week from now</td>\n",
              "      <td>[Communication, Negotiation, Interpersonal Ski...</td>\n",
              "    </tr>\n",
              "    <tr>\n",
              "      <th>1</th>\n",
              "      <td>Logpoint Nepal</td>\n",
              "      <td>Software Engineer (C)</td>\n",
              "      <td>Jawalakhel ,Lalitpur</td>\n",
              "      <td>2 weeks from now</td>\n",
              "      <td>[Teamwork, Java, Python, Analytical Skills, C/...</td>\n",
              "    </tr>\n",
              "    <tr>\n",
              "      <th>2</th>\n",
              "      <td>Tekvortex</td>\n",
              "      <td>Backend Developer (Python)</td>\n",
              "      <td>Jhamsikhel, Lalitpur</td>\n",
              "      <td>1 day from now</td>\n",
              "      <td>[Python, Dynamodb, Aws Lambda, Rds (Mysql), No...</td>\n",
              "    </tr>\n",
              "    <tr>\n",
              "      <th>3</th>\n",
              "      <td>Logpoint Nepal</td>\n",
              "      <td>Senior Quality Assurance Engine…</td>\n",
              "      <td>Jawalakhel ,Lalitpur</td>\n",
              "      <td>1 week, 2 days from now</td>\n",
              "      <td>[Communication, Java, Sql, Python Scripting, L...</td>\n",
              "    </tr>\n",
              "    <tr>\n",
              "      <th>4</th>\n",
              "      <td>Merojob</td>\n",
              "      <td>Python Developer</td>\n",
              "      <td>Kathmandu, Nepal</td>\n",
              "      <td>5 days from now</td>\n",
              "      <td>[Python, Js, Vue, Django Framework, Nuxt, Tail...</td>\n",
              "    </tr>\n",
              "    <tr>\n",
              "      <th>5</th>\n",
              "      <td>Codavatar</td>\n",
              "      <td>Mid- Level Backend Developer (P…</td>\n",
              "      <td>Kathmandu, Nepal</td>\n",
              "      <td>2 days from now</td>\n",
              "      <td>[Problem Solving, Multitasking, Time Managemen...</td>\n",
              "    </tr>\n",
              "    <tr>\n",
              "      <th>6</th>\n",
              "      <td>Softech Ltd.</td>\n",
              "      <td>Backend Developer</td>\n",
              "      <td>Kathmandu</td>\n",
              "      <td>11 minutes from now</td>\n",
              "      <td>[Communication, Problem Solving, Time Manageme...</td>\n",
              "    </tr>\n",
              "  </tbody>\n",
              "</table>\n",
              "</div>\n",
              "      <button class=\"colab-df-convert\" onclick=\"convertToInteractive('df-bec433d5-a090-4163-8ec2-5cf0fea1ebc7')\"\n",
              "              title=\"Convert this dataframe to an interactive table.\"\n",
              "              style=\"display:none;\">\n",
              "        \n",
              "  <svg xmlns=\"http://www.w3.org/2000/svg\" height=\"24px\"viewBox=\"0 0 24 24\"\n",
              "       width=\"24px\">\n",
              "    <path d=\"M0 0h24v24H0V0z\" fill=\"none\"/>\n",
              "    <path d=\"M18.56 5.44l.94 2.06.94-2.06 2.06-.94-2.06-.94-.94-2.06-.94 2.06-2.06.94zm-11 1L8.5 8.5l.94-2.06 2.06-.94-2.06-.94L8.5 2.5l-.94 2.06-2.06.94zm10 10l.94 2.06.94-2.06 2.06-.94-2.06-.94-.94-2.06-.94 2.06-2.06.94z\"/><path d=\"M17.41 7.96l-1.37-1.37c-.4-.4-.92-.59-1.43-.59-.52 0-1.04.2-1.43.59L10.3 9.45l-7.72 7.72c-.78.78-.78 2.05 0 2.83L4 21.41c.39.39.9.59 1.41.59.51 0 1.02-.2 1.41-.59l7.78-7.78 2.81-2.81c.8-.78.8-2.07 0-2.86zM5.41 20L4 18.59l7.72-7.72 1.47 1.35L5.41 20z\"/>\n",
              "  </svg>\n",
              "      </button>\n",
              "      \n",
              "  <style>\n",
              "    .colab-df-container {\n",
              "      display:flex;\n",
              "      flex-wrap:wrap;\n",
              "      gap: 12px;\n",
              "    }\n",
              "\n",
              "    .colab-df-convert {\n",
              "      background-color: #E8F0FE;\n",
              "      border: none;\n",
              "      border-radius: 50%;\n",
              "      cursor: pointer;\n",
              "      display: none;\n",
              "      fill: #1967D2;\n",
              "      height: 32px;\n",
              "      padding: 0 0 0 0;\n",
              "      width: 32px;\n",
              "    }\n",
              "\n",
              "    .colab-df-convert:hover {\n",
              "      background-color: #E2EBFA;\n",
              "      box-shadow: 0px 1px 2px rgba(60, 64, 67, 0.3), 0px 1px 3px 1px rgba(60, 64, 67, 0.15);\n",
              "      fill: #174EA6;\n",
              "    }\n",
              "\n",
              "    [theme=dark] .colab-df-convert {\n",
              "      background-color: #3B4455;\n",
              "      fill: #D2E3FC;\n",
              "    }\n",
              "\n",
              "    [theme=dark] .colab-df-convert:hover {\n",
              "      background-color: #434B5C;\n",
              "      box-shadow: 0px 1px 3px 1px rgba(0, 0, 0, 0.15);\n",
              "      filter: drop-shadow(0px 1px 2px rgba(0, 0, 0, 0.3));\n",
              "      fill: #FFFFFF;\n",
              "    }\n",
              "  </style>\n",
              "\n",
              "      <script>\n",
              "        const buttonEl =\n",
              "          document.querySelector('#df-bec433d5-a090-4163-8ec2-5cf0fea1ebc7 button.colab-df-convert');\n",
              "        buttonEl.style.display =\n",
              "          google.colab.kernel.accessAllowed ? 'block' : 'none';\n",
              "\n",
              "        async function convertToInteractive(key) {\n",
              "          const element = document.querySelector('#df-bec433d5-a090-4163-8ec2-5cf0fea1ebc7');\n",
              "          const dataTable =\n",
              "            await google.colab.kernel.invokeFunction('convertToInteractive',\n",
              "                                                     [key], {});\n",
              "          if (!dataTable) return;\n",
              "\n",
              "          const docLinkHtml = 'Like what you see? Visit the ' +\n",
              "            '<a target=\"_blank\" href=https://colab.research.google.com/notebooks/data_table.ipynb>data table notebook</a>'\n",
              "            + ' to learn more about interactive tables.';\n",
              "          element.innerHTML = '';\n",
              "          dataTable['output_type'] = 'display_data';\n",
              "          await google.colab.output.renderOutput(dataTable, element);\n",
              "          const docLink = document.createElement('div');\n",
              "          docLink.innerHTML = docLinkHtml;\n",
              "          element.appendChild(docLink);\n",
              "        }\n",
              "      </script>\n",
              "    </div>\n",
              "  </div>\n",
              "  "
            ]
          },
          "metadata": {},
          "execution_count": 13
        }
      ]
    },
    {
      "cell_type": "code",
      "source": [
        "output.to_excel('Excel_list.xlsx')"
      ],
      "metadata": {
        "id": "3WyFgSaxf1hc"
      },
      "execution_count": 14,
      "outputs": []
    }
  ],
  "metadata": {
    "colab": {
      "provenance": [],
      "authorship_tag": "ABX9TyPwRoLyJdsoN6cADIqV31hx",
      "include_colab_link": true
    },
    "kernelspec": {
      "display_name": "Python 3",
      "name": "python3"
    },
    "language_info": {
      "name": "python"
    }
  },
  "nbformat": 4,
  "nbformat_minor": 0
}